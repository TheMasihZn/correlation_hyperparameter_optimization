{
 "cells": [
  {
   "cell_type": "code",
   "execution_count": 6,
   "outputs": [
    {
     "name": "stderr",
     "output_type": "stream",
     "text": [
      "m:\\sdks\\python\\env3764\\lib\\site-packages\\ipykernel_launcher.py:28: VisibleDeprecationWarning: Creating an ndarray from ragged nested sequences (which is a list-or-tuple of lists-or-tuples-or ndarrays with different lengths or shapes) is deprecated. If you meant to do this, you must specify 'dtype=object' when creating the ndarray\n"
     ]
    }
   ],
   "source": [
    "import librosa\n",
    "import librosa.display\n",
    "import numpy as np\n",
    "\n",
    "def get_f():\n",
    "    frame_size = 2048\n",
    "    hop_size = 512\n",
    "    scale_file = \"audio/scale.wav\"\n",
    "    scale, sr = librosa.load(scale_file)\n",
    "    complex_scale = librosa.stft(scale, n_fft=frame_size, hop_length=hop_size)\n",
    "    linear_scale = np.real(complex_scale * np.conjugate(complex_scale))\n",
    "    return np.array(linear_scale).T\n",
    "\n",
    "def get_list_x_vector_axis(v_len, function):\n",
    "    def get_x_vector_axis(offset=0):\n",
    "        x_v_ax =  []\n",
    "        for i in range(int(function.shape[0]/v_len)):\n",
    "            lesser_lim = (i*v_len)+offset\n",
    "            upper_lim = ((i+1)*v_len)+offset\n",
    "            if upper_lim <= function.shape[0]:\n",
    "                x_v_ax.append(function[lesser_lim:upper_lim])\n",
    "\n",
    "        return np.array(x_v_ax)\n",
    "\n",
    "    results = []\n",
    "    for i in range(v_len):\n",
    "        results.append(get_x_vector_axis(offset=i))\n",
    "    return np.array(results)\n",
    "\n",
    "\n",
    "f = get_f()   #f.shape = (342, 1025)\n",
    "question = f[250:278]  #q.shape = (28, 1025);\n",
    "list_x_v_ax = get_list_x_vector_axis(question.shape[0], f) #..shape = (28, 12, 28, 1025)"
   ],
   "metadata": {
    "collapsed": false,
    "pycharm": {
     "name": "#%%\n"
    }
   }
  },
  {
   "cell_type": "code",
   "execution_count": 4,
   "outputs": [],
   "source": [
    "import librosa\n",
    "import librosa.display\n",
    "import numpy as np\n",
    "\n",
    "def get_f():\n",
    "    scale_file = \"audio/scale.wav\"\n",
    "    scale, sr = librosa.load(scale_file)\n",
    "    return np.array(scale).T\n",
    "\n",
    "def get_list_x_vector_axis(v_len, function):\n",
    "    def get_x_vector_axis(offset=0):\n",
    "        x_v_ax =  []\n",
    "        for i in range(int(function.shape[0]/v_len)):\n",
    "            lesser_lim = (i*v_len)+offset\n",
    "            upper_lim = ((i+1)*v_len)+offset\n",
    "            if upper_lim <= function.shape[0]:\n",
    "                x_v_ax.append(function[lesser_lim:upper_lim])\n",
    "\n",
    "        return np.array(x_v_ax)\n",
    "\n",
    "    results = []\n",
    "    for i in range(0, v_len, 50):\n",
    "        results.append(get_x_vector_axis(offset=i))\n",
    "    return np.array(results)\n",
    "\n",
    "\n",
    "f = get_f()\n",
    "question = f[100000:100245]\n",
    "x_v_ax = get_x_vector_axis(question.shape[0], f)"
   ],
   "metadata": {
    "collapsed": false,
    "pycharm": {
     "name": "#%%\n"
    }
   }
  },
  {
   "cell_type": "code",
   "execution_count": 8,
   "outputs": [
    {
     "name": "stdout",
     "output_type": "stream",
     "text": [
      "!\n"
     ]
    }
   ],
   "source": [
    "corr_xs = []\n",
    "for x, vector in enumerate(x_v_ax[3]):\n",
    "    for count, frame in enumerate(vector):\n",
    "        corr_qv = np.corrcoef(question, vector)[0][1]\n",
    "        corr_xs.append((corr_qv, x))\n",
    "print(\"!\")"
   ],
   "metadata": {
    "collapsed": false,
    "pycharm": {
     "name": "#%%\n"
    }
   }
  },
  {
   "cell_type": "code",
   "execution_count": 2,
   "outputs": [
    {
     "ename": "NameError",
     "evalue": "name 'librosa' is not defined",
     "output_type": "error",
     "traceback": [
      "\u001B[1;31m---------------------------------------------------------------------------\u001B[0m",
      "\u001B[1;31mNameError\u001B[0m                                 Traceback (most recent call last)",
      "\u001B[1;32m<ipython-input-2-b11331da3a94>\u001B[0m in \u001B[0;36m<module>\u001B[1;34m\u001B[0m\n\u001B[1;32m----> 1\u001B[1;33m \u001B[0mscale\u001B[0m\u001B[1;33m,\u001B[0m \u001B[0msr\u001B[0m \u001B[1;33m=\u001B[0m \u001B[0mlibrosa\u001B[0m\u001B[1;33m.\u001B[0m\u001B[0mload\u001B[0m\u001B[1;33m(\u001B[0m\u001B[1;34m\"audio/scale.wav\"\u001B[0m\u001B[1;33m)\u001B[0m\u001B[1;33m\u001B[0m\u001B[1;33m\u001B[0m\u001B[0m\n\u001B[0m\u001B[0;32m      2\u001B[0m \u001B[0mscale\u001B[0m\u001B[1;33m\u001B[0m\u001B[1;33m\u001B[0m\u001B[0m\n\u001B[0;32m      3\u001B[0m \u001B[1;33m\u001B[0m\u001B[0m\n",
      "\u001B[1;31mNameError\u001B[0m: name 'librosa' is not defined"
     ]
    }
   ],
   "source": [
    "scale, sr = librosa.load(\"audio/scale.wav\")\n",
    "scale"
   ],
   "metadata": {
    "collapsed": false,
    "pycharm": {
     "name": "#%%\n"
    }
   }
  },
  {
   "cell_type": "code",
   "execution_count": 6,
   "outputs": [
    {
     "name": "stdout",
     "output_type": "stream",
     "text": [
      "s\n"
     ]
    }
   ],
   "source": [
    "print(\"s\")"
   ],
   "metadata": {
    "collapsed": false,
    "pycharm": {
     "name": "#%%\n"
    }
   }
  },
  {
   "cell_type": "code",
   "execution_count": null,
   "outputs": [],
   "source": [
    "# for offset, axis in enumerate(list_x_v_ax):\n",
    "corr_xs = []\n",
    "for x, vector in enumerate(list_x_v_ax[3]):\n",
    "    for count, frame in enumerate(vector)\n",
    "    corr_qv = np.corrcoef(question, vector)[0][1]\n",
    "    corr_xs.append((corr_qv, x))\n",
    "max_corr = np.max(corr_xs)\n",
    "\n"
   ],
   "metadata": {
    "collapsed": false,
    "pycharm": {
     "name": "#%%\n"
    }
   }
  },
  {
   "cell_type": "code",
   "execution_count": null,
   "outputs": [],
   "source": [
    "xxx = np.corrcoef(f, f)\n",
    "xxx = xxx[:len(xxx),:len(xxx)]"
   ],
   "metadata": {
    "collapsed": false,
    "pycharm": {
     "name": "#%%\n"
    }
   }
  },
  {
   "cell_type": "code",
   "execution_count": null,
   "outputs": [],
   "source": [
    "result = []\n",
    "for offset in range(0,len(y)-1):\n",
    "    # x axis\n",
    "    test = []\n",
    "    for i in range(len(f)):\n",
    "            if i+len(y)+offset <= len(f):\n",
    "                test.append((f[i+offset:i+len(y)+offset],i))\n",
    "    test = np.array(test)\n",
    "\n",
    "    r= []\n",
    "    for _range, i in test:\n",
    "        r.append([np.corrcoef(_range, y)[0][1], i])\n",
    "\n",
    "    r = np.array(r)\n",
    "    result.append((np.max(r[:,0]), r[:,1]))"
   ],
   "metadata": {
    "collapsed": false,
    "pycharm": {
     "name": "#%%\n"
    }
   }
  },
  {
   "cell_type": "code",
   "execution_count": null,
   "outputs": [],
   "source": [
    "test = []\n",
    "for i in range(len(y[:,1])):\n",
    "    for y_sized_range in range(int(len(f[:,1]/len(y[:,1])))):\n",
    "        pass        # if i+len(y) <= len(f):\n",
    "        #     test.append((f[i:i+len(y)],i))"
   ],
   "metadata": {
    "collapsed": false,
    "pycharm": {
     "name": "#%%\n"
    }
   }
  },
  {
   "cell_type": "code",
   "execution_count": null,
   "outputs": [],
   "source": [
    "j= f[:,1]"
   ],
   "metadata": {
    "collapsed": false,
    "pycharm": {
     "name": "#%%\n"
    }
   }
  },
  {
   "cell_type": "code",
   "execution_count": null,
   "outputs": [],
   "source": [
    "print(f\"{np.argmax(result)} : {np.max(result)} : {f[np.argmax(result)*(len(y) -1):np.argmax(result)*len(y)]}\\n                      y: {y}\")"
   ],
   "metadata": {
    "collapsed": false,
    "pycharm": {
     "name": "#%%\n"
    }
   }
  },
  {
   "cell_type": "code",
   "execution_count": null,
   "outputs": [],
   "source": [
    "\n",
    "r = []\n",
    "for i in range(len(f)):\n",
    "    if i+len(y) <= len(f):\n",
    "        r.append(f[i:i+len(y)])\n",
    "r"
   ],
   "metadata": {
    "collapsed": false,
    "pycharm": {
     "name": "#%%\n"
    }
   }
  },
  {
   "cell_type": "code",
   "execution_count": null,
   "outputs": [],
   "source": [
    "i =97\n",
    "[f[n+i:n+i+len(y)] for n in f if len(f[n+i:n+i+len(y)])==len(y)]"
   ],
   "metadata": {
    "collapsed": false,
    "pycharm": {
     "name": "#%%\n"
    }
   }
  }
 ],
 "metadata": {
  "kernelspec": {
   "display_name": "Python 3",
   "language": "python",
   "name": "python3"
  },
  "language_info": {
   "codemirror_mode": {
    "name": "ipython",
    "version": 2
   },
   "file_extension": ".py",
   "mimetype": "text/x-python",
   "name": "python",
   "nbconvert_exporter": "python",
   "pygments_lexer": "ipython2",
   "version": "2.7.6"
  }
 },
 "nbformat": 4,
 "nbformat_minor": 0
}